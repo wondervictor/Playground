{
 "cells": [
  {
   "cell_type": "markdown",
   "metadata": {},
   "source": [
    "## FashionMNIST Dataset\n",
    "\n",
    "implemented by  PyTorch"
   ]
  },
  {
   "cell_type": "code",
   "execution_count": 1,
   "metadata": {},
   "outputs": [],
   "source": [
    "# -*- coding: utf-8 -*-\n",
    "%matplotlib inline"
   ]
  },
  {
   "cell_type": "code",
   "execution_count": 55,
   "metadata": {},
   "outputs": [],
   "source": [
    "import struct\n",
    "import numpy as np\n",
    "import matplotlib.pyplot as plt\n",
    "import torch\n",
    "import torch.nn as nn\n",
    "from torch.autograd import Variable\n",
    "import torch.nn.functional as F\n",
    "import torch.optim as optimizer\n",
    "import random"
   ]
  },
  {
   "cell_type": "code",
   "execution_count": 9,
   "metadata": {},
   "outputs": [],
   "source": [
    "def read_image_files(filename, num):\n",
    "    bin_file = open(filename, 'rb')\n",
    "    buf = bin_file.read()\n",
    "    index = 0\n",
    "    magic, numImage, numRows, numCols = struct.unpack_from('>IIII', buf, index)\n",
    "    index += struct.calcsize('>IIII')\n",
    "\n",
    "    image_sets = []\n",
    "    for i in range(num):\n",
    "        images = struct.unpack_from('>784B', buf, index)\n",
    "        index += struct.calcsize('>784B')\n",
    "        images = np.array(images)\n",
    "        images = images/255.0\n",
    "        images = images.tolist()\n",
    "        image_sets.append(images)\n",
    "    bin_file.close()\n",
    "    return image_sets\n",
    "\n",
    "\n",
    "def read_label_files(filename):\n",
    "    bin_file = open(filename, 'rb')\n",
    "    buf = bin_file.read()\n",
    "    index = 0\n",
    "    magic, nums = struct.unpack_from('>II', buf, index)\n",
    "    index += struct.calcsize('>II')\n",
    "    labels = struct.unpack_from('>%sB' % nums, buf, index)\n",
    "    bin_file.close()\n",
    "    labels = np.array(labels)\n",
    "    return labels\n",
    "\n",
    "def fetch_traingset():\n",
    "    image_file = 'data/train-images-idx3-ubyte'\n",
    "    label_file = 'data/train-labels-idx1-ubyte'\n",
    "    images = read_image_files(image_file,60000)\n",
    "    labels = read_label_files(label_file)\n",
    "    return {'images': images,\n",
    "            'labels': labels}\n",
    "\n",
    "\n",
    "def fetch_testingset():\n",
    "    image_file = 'data/t10k-images-idx3-ubyte'\n",
    "    label_file = 'data/t10k-labels-idx1-ubyte'\n",
    "    images = read_image_files(image_file,10000)\n",
    "    labels = read_label_files(label_file)\n",
    "    return {'images': images,\n",
    "            'labels': labels}\n",
    "\n",
    "\n",
    "def get_label(idx):\n",
    "    labels = ['T-shirt/top','Trouser','Pullover','Dress','Coat','Sandal','Shirt','Sneaker','Bag','Ankle boot']\n",
    "    return labels[idx]    "
   ]
  },
  {
   "cell_type": "code",
   "execution_count": 13,
   "metadata": {},
   "outputs": [
    {
     "name": "stdout",
     "output_type": "stream",
     "text": [
      "Label: Trouser\n"
     ]
    },
    {
     "data": {
      "image/png": "[encoded data removed]",
      "text/plain": [
       "<matplotlib.figure.Figure at 0x1012b6a50>"
      ]
     },
     "metadata": {},
     "output_type": "display_data"
    }
   ],
   "source": [
    "def test():\n",
    "    data = fetch_testingset()\n",
    "    image = data['images'][200]\n",
    "    print(\"Label: %s\" % get_label(data['labels'][200]))\n",
    "    images = np.reshape(image, [28, 28])\n",
    "    plt.imshow(images, cmap='gray')\n",
    "    plt.show()\n",
    "    \n",
    "    \n",
    "test()"
   ]
  },
  {
   "cell_type": "code",
   "execution_count": 51,
   "metadata": {},
   "outputs": [],
   "source": [
    "class BasicConv(nn.Module):\n",
    "    \n",
    "    def __init__(self, in_chan, out_chan, kernel_size, stride, padding):\n",
    "        super(BasicConv, self).__init__()\n",
    "        self.conv = nn.Conv2d(in_chan, out_chan,kernel_size=kernel_size, stride=stride,padding=padding, bias=False) # verify bias false\n",
    "        self.bn = nn.BatchNorm2d(out_chan,eps=0.001,momentum=0.1,affine=True)\n",
    "        self.relu = nn.ReLU(inplace=False)\n",
    "    \n",
    "    def forward(self, x):\n",
    "        x = self.conv(x)\n",
    "        x = self.bn(x)\n",
    "        x = self.relu(x)\n",
    "        return x\n",
    "\n",
    "class ResInceptionBlock(nn.Module):\n",
    "    \n",
    "    def __init__(self, in_chan, out_chan, scale):\n",
    "        super(ResInceptionBlock, self).__init__()\n",
    "        self.scale = scale\n",
    "        self.branch_0 = nn.Sequential(\n",
    "            BasicConv(in_chan, 32, 1, stride=1, padding=0)\n",
    "        )\n",
    "        self.branch_1 = nn.Sequential(\n",
    "            BasicConv(in_chan, 32, 1, stride=1, padding=0),\n",
    "            BasicConv(32, 32, 3, stride=1, padding=1)\n",
    "        )\n",
    "        \n",
    "        self.branch_2 = nn.Sequential(\n",
    "            BasicConv(in_chan, 32, 1, stride=1, padding=0),\n",
    "            BasicConv(32, 32, 3, stride=1, padding=1),\n",
    "            BasicConv(32, 32, 3, stride=1, padding=1)\n",
    "        )\n",
    "        self.out_conv = nn.Conv2d(32*3, out_chan, 1, stride=1, padding=0)\n",
    "        self.relu = nn.ReLU(inplace=False)\n",
    "\n",
    "    def forward(self, x):\n",
    "        x0 = self.branch_0(x)\n",
    "        x1 = self.branch_1(x)\n",
    "        x2 = self.branch_2(x)\n",
    "        out = torch.cat((x0, x1, x2), 1)\n",
    "        out = self.out_conv(out)\n",
    "        out = out * self.scale + x\n",
    "        out = self.relu(out)\n",
    "        return out\n",
    "    \n",
    "        \n",
    "class Classifier(nn.Module):\n",
    "    \n",
    "    def __init__(self):\n",
    "        super(Classifier, self).__init__()\n",
    "        self.conv1 = BasicConv(1, 32, 1, 1, 0)\n",
    "        self.res_incep_block_1 = ResInceptionBlock(32, 32, 1.0)\n",
    "        self.res_incep_block_2 = ResInceptionBlock(32, 32, 1.0)        \n",
    "        self.pool = nn.MaxPool2d(kernel_size=2, stride=2)\n",
    "        self.fc = nn.Linear(32*7*7, 512)\n",
    "        self.output = nn.Linear(512, 10)\n",
    "    \n",
    "    def forward(self, x):\n",
    "        out = self.conv1(x)\n",
    "        out = self.res_incep_block_1(out)\n",
    "        out = self.pool(out)\n",
    "        out = self.res_incep_block_2(out)\n",
    "        out = self.pool(out)\n",
    "        out = out.view(-1, 32*7*7)\n",
    "        out = F.leaky_relu(self.fc(out), 0.3)\n",
    "        out = F.softmax(self.output(out))\n",
    "        return out\n"
   ]
  },
  {
   "cell_type": "code",
   "execution_count": 41,
   "metadata": {},
   "outputs": [
    {
     "name": "stdout",
     "output_type": "stream",
     "text": [
      "10\n"
     ]
    }
   ],
   "source": [
    "data = fetch_testingset()\n",
    "\n",
    "samples = data['images'][0:10]\n",
    "print(len(samples))"
   ]
  },
  {
   "cell_type": "code",
   "execution_count": 42,
   "metadata": {},
   "outputs": [
    {
     "name": "stdout",
     "output_type": "stream",
     "text": [
      "(10, 28, 28)\n"
     ]
    }
   ],
   "source": [
    "samples = [np.reshape(image, [28, 28]) for image in samples]\n",
    "samples = np.array(samples)\n",
    "print(samples.shape)"
   ]
  },
  {
   "cell_type": "code",
   "execution_count": 43,
   "metadata": {},
   "outputs": [],
   "source": [
    "input_sample = Variable(torch.FloatTensor(samples))"
   ]
  },
  {
   "cell_type": "code",
   "execution_count": 44,
   "metadata": {},
   "outputs": [
    {
     "name": "stdout",
     "output_type": "stream",
     "text": [
      "torch.Size([10, 1, 28, 28])\n"
     ]
    }
   ],
   "source": [
    "input_sample = input_sample.unsqueeze(1)\n",
    "print(input_sample.size())\n"
   ]
  },
  {
   "cell_type": "code",
   "execution_count": 54,
   "metadata": {},
   "outputs": [],
   "source": [
    "def save_model(path, model):\n",
    "    torch.save(model.state_dict(), path)\n",
    "\n",
    "def load_model(path):\n",
    "    return torch.load(path)\n"
   ]
  },
  {
   "cell_type": "code",
   "execution_count": 66,
   "metadata": {},
   "outputs": [],
   "source": [
    "def test(model, test_data):\n",
    "    num_samples = len(test_data)\n",
    "    result = []\n",
    "    for i in range(num_samples):\n",
    "        image = test_data[i]\n",
    "        image = np.reshape(image, [28,28])\n",
    "        image = Variable(torch.FloatTensor(image))\n",
    "        image = image.unsqueeze(0)\n",
    "        image = image.unsqueeze(0)\n",
    "        prob = model(image)\n",
    "\n",
    "        prob = prob.squeeze(0)\n",
    "        prob = prob.data.numpy()\n",
    "        result.append(prob)\n",
    "\n",
    "        \n",
    "def evaluate(pred, truth):\n",
    "    nums = len(pred)\n",
    "    correct = 0\n",
    "    for i in range(nums):\n",
    "        pred_id = np.argmax(pred[i])\n",
    "        if pred_id == truth[i]:\n",
    "            correct += 1\n",
    "\n",
    "    acc = float(correct)/float(nums)\n",
    "    print(\"TEST ACC: %s\" % acc)\n",
    "    return acc"
   ]
  },
  {
   "cell_type": "code",
   "execution_count": 67,
   "metadata": {},
   "outputs": [],
   "source": [
    "def train(epoches, lr, batch_size, train_data, test_data):\n",
    "    num_samples = len(train_data)\n",
    "    classifier = Classifier()\n",
    "    criterion = nn.CrossEntropyLoss()\n",
    "    classifier_optimizer = optimizer.Adam(lr=lr, params=classifier.parameters())\n",
    "    test_labels = test_data['labels']\n",
    "    test_data = test_data['images']\n",
    "    for i in xrange(epoches):\n",
    "        random.shuffle(train_data)\n",
    "        loss = 0.0\n",
    "        for p in xrange(num_samples/batch_size):\n",
    "            images = [np.reshape(img[0], [28,28]) for img in train_data[p: p+batch_size]]\n",
    "            label = [img[1] for img in train_data[p: p+batch_size]]\n",
    "            images = Variable(torch.FloatTensor(images))\n",
    "            label = Variable(torch.LongTensor(label))\n",
    "            images = images.unsqueeze(1)\n",
    "            \n",
    "            prob = classifier(images)\n",
    "            cur_loss = criterion(prob, label)\n",
    "            loss += cur_loss.data.numpy()[0]\n",
    "            classifier_optimizer.zero_grad()\n",
    "            cur_loss.backward()\n",
    "            classifier_optimizer.step()\n",
    "            \n",
    "            if p % 5 == 0:\n",
    "                print(\"Epoch: %s BatchIndex: %s AvgLoss: %s\" % (i, p, loss/(p + 1)))\n",
    "        \n",
    "        save_model('param/model_%s.pkl' % i, classifier)\n",
    "\n",
    "        resulclassifierst(classifier, test_data)\n",
    "        evaluate(result, labels)\n",
    "        "
   ]
  },
  {
   "cell_type": "code",
   "execution_count": 57,
   "metadata": {},
   "outputs": [],
   "source": [
    "trainset = fetch_traingset()\n",
    "train_data = trainset['images']\n",
    "train_labels = trainset['labels']\n",
    "train_data = zip(train_data, train_labels)"
   ]
  },
  {
   "cell_type": "code",
   "execution_count": 63,
   "metadata": {
    "scrolled": true
   },
   "outputs": [],
   "source": [
    "testset = fetch_testingset()"
   ]
  },
  {
   "cell_type": "code",
   "execution_count": null,
   "metadata": {},
   "outputs": [],
   "source": []
  },
  {
   "cell_type": "code",
   "execution_count": null,
   "metadata": {},
   "outputs": [],
   "source": []
  }
 ],
 "metadata": {
  "kernelspec": {
   "display_name": "Python 2",
   "language": "python",
   "name": "python2"
  },
  "language_info": {
   "codemirror_mode": {
    "name": "ipython",
    "version": 2
   },
   "file_extension": ".py",
   "mimetype": "text/x-python",
   "name": "python",
   "nbconvert_exporter": "python",
   "pygments_lexer": "ipython2",
   "version": "2.7.10"
  }
 },
 "nbformat": 4,
 "nbformat_minor": 2
}
